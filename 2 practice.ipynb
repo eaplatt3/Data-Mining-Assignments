{
 "cells": [
  {
   "cell_type": "code",
   "execution_count": 3,
   "metadata": {},
   "outputs": [
    {
     "name": "stdout",
     "output_type": "stream",
     "text": [
      "The number is positive.\n"
     ]
    }
   ],
   "source": [
    "#1. Write a Python program that checks if a number is positive.\n",
    "# If the number is greater than 0, print \"The number is positive.\"\n",
    "# Otherwise, print \"The number is not positive.\"\n",
    "\n",
    "number = 5  # You can change this value to test\n",
    "\n",
    "if (number > 0):\n",
    "    print(\"The number is positive.\")\n",
    "else:\n",
    "    print(\"The number is not positive.\")\n"
   ]
  },
  {
   "cell_type": "code",
   "execution_count": 8,
   "metadata": {},
   "outputs": [
    {
     "name": "stdout",
     "output_type": "stream",
     "text": [
      "It's a hot day!\n"
     ]
    }
   ],
   "source": [
    "# 2. Write a program that checks the temperature and prints a message based on the value:\n",
    "# If the temperature is above 30°C, print \"It's a hot day!\"\n",
    "# If the temperature is between 15°C and 30°C, print \"The weather is nice.\"\n",
    "# Otherwise, print \"It's a cold day!\"\n",
    "\n",
    "temperature = 40 # You can change this value to test\n",
    "\n",
    "if (temperature > 30):\n",
    "    print(\"It's a hot day!\")\n",
    "elif (temperature >= 15 and temperature <= 30):\n",
    "    print(\"The weather is nice.\")\n",
    "else:\n",
    "    print(\"Its a cold day!\")\n"
   ]
  },
  {
   "cell_type": "code",
   "execution_count": 28,
   "metadata": {},
   "outputs": [
    {
     "name": "stdout",
     "output_type": "stream",
     "text": [
      "5.0\n",
      "2.5\n",
      "1.25\n",
      "0.625\n",
      "Loop complete!\n"
     ]
    }
   ],
   "source": [
    "# 3.  Write a Python program that starts with num = 10 and keeps halving it until it is less than 1.\n",
    "# Print the value of num in each step.\n",
    "# When the loop ends, print \"Loop complete!\".\n",
    "num = 10\n",
    "while num > 1:\n",
    "    num /= 2\n",
    "    print(num)\n",
    "print(\"Loop complete!\")\n",
    "   "
   ]
  },
  {
   "cell_type": "code",
   "execution_count": 13,
   "metadata": {},
   "outputs": [
    {
     "name": "stdout",
     "output_type": "stream",
     "text": [
      "3\n",
      "4\n",
      "5\n",
      "6\n",
      "7\n"
     ]
    }
   ],
   "source": [
    "# 4. Write a Python program that prints numbers from 3 to 7 using a for loop.\n",
    "for i in range(3, 8):\n",
    "    print(i)"
   ]
  }
 ],
 "metadata": {
  "kernelspec": {
   "display_name": "Python 3",
   "language": "python",
   "name": "python3"
  },
  "language_info": {
   "codemirror_mode": {
    "name": "ipython",
    "version": 3
   },
   "file_extension": ".py",
   "mimetype": "text/x-python",
   "name": "python",
   "nbconvert_exporter": "python",
   "pygments_lexer": "ipython3",
   "version": "3.11.9"
  }
 },
 "nbformat": 4,
 "nbformat_minor": 2
}
