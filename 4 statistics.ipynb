{
 "cells": [
  {
   "cell_type": "code",
   "execution_count": 1,
   "metadata": {},
   "outputs": [
    {
     "name": "stdout",
     "output_type": "stream",
     "text": [
      "Collecting numpy\n",
      "  Downloading numpy-2.2.2-cp311-cp311-win_amd64.whl.metadata (60 kB)\n",
      "     ---------------------------------------- 0.0/60.8 kB ? eta -:--:--\n",
      "     ------------ ------------------------- 20.5/60.8 kB 640.0 kB/s eta 0:00:01\n",
      "     -------------------------------------- 60.8/60.8 kB 803.2 kB/s eta 0:00:00\n",
      "Downloading numpy-2.2.2-cp311-cp311-win_amd64.whl (12.9 MB)\n",
      "   ---------------------------------------- 0.0/12.9 MB ? eta -:--:--\n",
      "    --------------------------------------- 0.3/12.9 MB 5.3 MB/s eta 0:00:03\n",
      "   - -------------------------------------- 0.6/12.9 MB 8.1 MB/s eta 0:00:02\n",
      "   --- ------------------------------------ 1.0/12.9 MB 7.0 MB/s eta 0:00:02\n",
      "   ---- ----------------------------------- 1.4/12.9 MB 7.6 MB/s eta 0:00:02\n",
      "   ----- ---------------------------------- 1.8/12.9 MB 7.8 MB/s eta 0:00:02\n",
      "   ------- -------------------------------- 2.3/12.9 MB 8.1 MB/s eta 0:00:02\n",
      "   -------- ------------------------------- 2.8/12.9 MB 8.4 MB/s eta 0:00:02\n",
      "   ---------- ----------------------------- 3.3/12.9 MB 8.9 MB/s eta 0:00:02\n",
      "   ----------- ---------------------------- 3.7/12.9 MB 8.8 MB/s eta 0:00:02\n",
      "   ------------ --------------------------- 4.2/12.9 MB 9.2 MB/s eta 0:00:01\n",
      "   -------------- ------------------------- 4.6/12.9 MB 8.9 MB/s eta 0:00:01\n",
      "   --------------- ------------------------ 5.0/12.9 MB 9.2 MB/s eta 0:00:01\n",
      "   ---------------- ----------------------- 5.5/12.9 MB 9.0 MB/s eta 0:00:01\n",
      "   ------------------ --------------------- 6.0/12.9 MB 9.3 MB/s eta 0:00:01\n",
      "   ------------------- -------------------- 6.3/12.9 MB 9.2 MB/s eta 0:00:01\n",
      "   --------------------- ------------------ 6.8/12.9 MB 9.2 MB/s eta 0:00:01\n",
      "   ---------------------- ----------------- 7.3/12.9 MB 9.3 MB/s eta 0:00:01\n",
      "   ----------------------- ---------------- 7.7/12.9 MB 9.3 MB/s eta 0:00:01\n",
      "   ------------------------- -------------- 8.2/12.9 MB 9.2 MB/s eta 0:00:01\n",
      "   -------------------------- ------------- 8.6/12.9 MB 9.4 MB/s eta 0:00:01\n",
      "   ---------------------------- ----------- 9.1/12.9 MB 9.2 MB/s eta 0:00:01\n",
      "   ----------------------------- ---------- 9.6/12.9 MB 9.4 MB/s eta 0:00:01\n",
      "   ----------------------------- ---------- 9.7/12.9 MB 9.1 MB/s eta 0:00:01\n",
      "   ------------------------------ --------- 9.9/12.9 MB 9.0 MB/s eta 0:00:01\n",
      "   -------------------------------- ------- 10.4/12.9 MB 9.0 MB/s eta 0:00:01\n",
      "   --------------------------------- ------ 10.8/12.9 MB 9.0 MB/s eta 0:00:01\n",
      "   ---------------------------------- ----- 11.2/12.9 MB 9.1 MB/s eta 0:00:01\n",
      "   ------------------------------------ --- 11.7/12.9 MB 9.2 MB/s eta 0:00:01\n",
      "   ------------------------------------- -- 12.1/12.9 MB 9.2 MB/s eta 0:00:01\n",
      "   -------------------------------------- - 12.5/12.9 MB 9.1 MB/s eta 0:00:01\n",
      "   ---------------------------------------  12.9/12.9 MB 9.0 MB/s eta 0:00:01\n",
      "   ---------------------------------------- 12.9/12.9 MB 9.0 MB/s eta 0:00:00\n",
      "Installing collected packages: numpy\n",
      "Successfully installed numpy-2.2.2\n",
      "Note: you may need to restart the kernel to use updated packages.\n"
     ]
    },
    {
     "name": "stderr",
     "output_type": "stream",
     "text": [
      "\n",
      "[notice] A new release of pip is available: 24.0 -> 25.0.1\n",
      "[notice] To update, run: python.exe -m pip install --upgrade pip\n"
     ]
    },
    {
     "name": "stdout",
     "output_type": "stream",
     "text": [
      "Collecting matplotlib\n",
      "  Downloading matplotlib-3.10.0-cp311-cp311-win_amd64.whl.metadata (11 kB)\n",
      "Collecting contourpy>=1.0.1 (from matplotlib)\n",
      "  Downloading contourpy-1.3.1-cp311-cp311-win_amd64.whl.metadata (5.4 kB)\n",
      "Collecting cycler>=0.10 (from matplotlib)\n",
      "  Downloading cycler-0.12.1-py3-none-any.whl.metadata (3.8 kB)\n",
      "Collecting fonttools>=4.22.0 (from matplotlib)\n",
      "  Downloading fonttools-4.56.0-cp311-cp311-win_amd64.whl.metadata (103 kB)\n",
      "     ---------------------------------------- 0.0/104.0 kB ? eta -:--:--\n",
      "     -------------- ---------------------- 41.0/104.0 kB 991.0 kB/s eta 0:00:01\n",
      "     -------------------------------------- 104.0/104.0 kB 2.0 MB/s eta 0:00:00\n",
      "Collecting kiwisolver>=1.3.1 (from matplotlib)\n",
      "  Downloading kiwisolver-1.4.8-cp311-cp311-win_amd64.whl.metadata (6.3 kB)\n",
      "Requirement already satisfied: numpy>=1.23 in c:\\users\\sickl\\onedrive\\documents\\school\\2025\\data mining - 540\\python scripts\\datamining\\lib\\site-packages (from matplotlib) (2.2.2)\n",
      "Requirement already satisfied: packaging>=20.0 in c:\\users\\sickl\\onedrive\\documents\\school\\2025\\data mining - 540\\python scripts\\datamining\\lib\\site-packages (from matplotlib) (24.2)\n",
      "Collecting pillow>=8 (from matplotlib)\n",
      "  Downloading pillow-11.1.0-cp311-cp311-win_amd64.whl.metadata (9.3 kB)\n",
      "Collecting pyparsing>=2.3.1 (from matplotlib)\n",
      "  Downloading pyparsing-3.2.1-py3-none-any.whl.metadata (5.0 kB)\n",
      "Requirement already satisfied: python-dateutil>=2.7 in c:\\users\\sickl\\onedrive\\documents\\school\\2025\\data mining - 540\\python scripts\\datamining\\lib\\site-packages (from matplotlib) (2.9.0.post0)\n",
      "Requirement already satisfied: six>=1.5 in c:\\users\\sickl\\onedrive\\documents\\school\\2025\\data mining - 540\\python scripts\\datamining\\lib\\site-packages (from python-dateutil>=2.7->matplotlib) (1.17.0)\n",
      "Downloading matplotlib-3.10.0-cp311-cp311-win_amd64.whl (8.0 MB)\n",
      "   ---------------------------------------- 0.0/8.0 MB ? eta -:--:--\n",
      "   - -------------------------------------- 0.3/8.0 MB 5.7 MB/s eta 0:00:02\n",
      "   ---- ----------------------------------- 0.8/8.0 MB 8.6 MB/s eta 0:00:01\n",
      "   ------- -------------------------------- 1.4/8.0 MB 10.1 MB/s eta 0:00:01\n",
      "   --------- ------------------------------ 1.9/8.0 MB 10.2 MB/s eta 0:00:01\n",
      "   ----------- ---------------------------- 2.4/8.0 MB 10.0 MB/s eta 0:00:01\n",
      "   -------------- ------------------------- 2.9/8.0 MB 10.2 MB/s eta 0:00:01\n",
      "   ----------------- ---------------------- 3.5/8.0 MB 11.0 MB/s eta 0:00:01\n",
      "   ------------------- -------------------- 4.0/8.0 MB 10.6 MB/s eta 0:00:01\n",
      "   ---------------------- ----------------- 4.6/8.0 MB 11.3 MB/s eta 0:00:01\n",
      "   ------------------------- -------------- 5.0/8.0 MB 11.1 MB/s eta 0:00:01\n",
      "   --------------------------- ------------ 5.5/8.0 MB 11.0 MB/s eta 0:00:01\n",
      "   ----------------------------- ---------- 5.9/8.0 MB 10.6 MB/s eta 0:00:01\n",
      "   ------------------------------ --------- 6.1/8.0 MB 10.0 MB/s eta 0:00:01\n",
      "   -------------------------------- ------- 6.5/8.0 MB 10.2 MB/s eta 0:00:01\n",
      "   ----------------------------------- ---- 7.1/8.0 MB 10.3 MB/s eta 0:00:01\n",
      "   -------------------------------------- - 7.8/8.0 MB 10.6 MB/s eta 0:00:01\n",
      "   ---------------------------------------- 8.0/8.0 MB 10.3 MB/s eta 0:00:00\n",
      "Downloading contourpy-1.3.1-cp311-cp311-win_amd64.whl (219 kB)\n",
      "   ---------------------------------------- 0.0/219.8 kB ? eta -:--:--\n",
      "   --------------------------------------- 219.8/219.8 kB 14.0 MB/s eta 0:00:00\n",
      "Downloading cycler-0.12.1-py3-none-any.whl (8.3 kB)\n",
      "Downloading fonttools-4.56.0-cp311-cp311-win_amd64.whl (2.2 MB)\n",
      "   ---------------------------------------- 0.0/2.2 MB ? eta -:--:--\n",
      "   --------- ------------------------------ 0.5/2.2 MB 16.0 MB/s eta 0:00:01\n",
      "   ------------------ --------------------- 1.0/2.2 MB 12.6 MB/s eta 0:00:01\n",
      "   --------------------------- ------------ 1.5/2.2 MB 11.9 MB/s eta 0:00:01\n",
      "   ---------------------------------------  2.2/2.2 MB 12.6 MB/s eta 0:00:01\n",
      "   ---------------------------------------- 2.2/2.2 MB 11.7 MB/s eta 0:00:00\n",
      "Downloading kiwisolver-1.4.8-cp311-cp311-win_amd64.whl (71 kB)\n",
      "   ---------------------------------------- 0.0/72.0 kB ? eta -:--:--\n",
      "   ---------------------------------------- 72.0/72.0 kB ? eta 0:00:00\n",
      "Downloading pillow-11.1.0-cp311-cp311-win_amd64.whl (2.6 MB)\n",
      "   ---------------------------------------- 0.0/2.6 MB ? eta -:--:--\n",
      "   -------- ------------------------------- 0.6/2.6 MB 17.5 MB/s eta 0:00:01\n",
      "   --------------- ------------------------ 1.0/2.6 MB 12.6 MB/s eta 0:00:01\n",
      "   --------------------- ------------------ 1.4/2.6 MB 11.0 MB/s eta 0:00:01\n",
      "   ---------------------------- ----------- 1.9/2.6 MB 10.8 MB/s eta 0:00:01\n",
      "   ---------------------------------- ----- 2.3/2.6 MB 10.2 MB/s eta 0:00:01\n",
      "   ---------------------------------------- 2.6/2.6 MB 9.8 MB/s eta 0:00:00\n",
      "Downloading pyparsing-3.2.1-py3-none-any.whl (107 kB)\n",
      "   ---------------------------------------- 0.0/107.7 kB ? eta -:--:--\n",
      "   ---------------------------------------- 107.7/107.7 kB 6.1 MB/s eta 0:00:00\n",
      "Installing collected packages: pyparsing, pillow, kiwisolver, fonttools, cycler, contourpy, matplotlib\n",
      "Successfully installed contourpy-1.3.1 cycler-0.12.1 fonttools-4.56.0 kiwisolver-1.4.8 matplotlib-3.10.0 pillow-11.1.0 pyparsing-3.2.1\n",
      "Note: you may need to restart the kernel to use updated packages.\n"
     ]
    },
    {
     "name": "stderr",
     "output_type": "stream",
     "text": [
      "\n",
      "[notice] A new release of pip is available: 24.0 -> 25.0.1\n",
      "[notice] To update, run: python.exe -m pip install --upgrade pip\n"
     ]
    }
   ],
   "source": [
    "%pip install numpy   \n",
    "%pip install matplotlib\n",
    "\n",
    "# you only need to run the above lines once to install packages in your environment\n",
    "# you will not need to run this again in the future in the same enviroment "
   ]
  },
  {
   "cell_type": "code",
   "execution_count": 3,
   "metadata": {},
   "outputs": [],
   "source": [
    "# you need to import packages when you reopen the script\n",
    "import numpy as np   \n",
    "import matplotlib.pyplot as plt "
   ]
  },
  {
   "cell_type": "markdown",
   "metadata": {},
   "source": [
    "**Mean Median SD Variance**"
   ]
  },
  {
   "cell_type": "code",
   "execution_count": 4,
   "metadata": {},
   "outputs": [
    {
     "data": {
      "text/plain": [
       "np.float64(92000.0)"
      ]
     },
     "execution_count": 4,
     "metadata": {},
     "output_type": "execute_result"
    }
   ],
   "source": [
    "incomes = [100000, 200000, 50000, 50000, 60000]\n",
    "np.mean(incomes)"
   ]
  },
  {
   "cell_type": "code",
   "execution_count": 5,
   "metadata": {},
   "outputs": [
    {
     "name": "stdout",
     "output_type": "stream",
     "text": [
      "92000.0\n"
     ]
    }
   ],
   "source": [
    "print(np.mean(incomes))"
   ]
  },
  {
   "cell_type": "code",
   "execution_count": 6,
   "metadata": {},
   "outputs": [
    {
     "data": {
      "text/plain": [
       "np.float64(60000.0)"
      ]
     },
     "execution_count": 6,
     "metadata": {},
     "output_type": "execute_result"
    }
   ],
   "source": [
    "np.median(incomes)"
   ]
  },
  {
   "cell_type": "code",
   "execution_count": 7,
   "metadata": {},
   "outputs": [
    {
     "data": {
      "text/plain": [
       "np.float64(57061.37047074842)"
      ]
     },
     "execution_count": 7,
     "metadata": {},
     "output_type": "execute_result"
    }
   ],
   "source": [
    "np.std(incomes)"
   ]
  },
  {
   "cell_type": "code",
   "execution_count": 8,
   "metadata": {},
   "outputs": [
    {
     "data": {
      "text/plain": [
       "np.float64(3256000000.0)"
      ]
     },
     "execution_count": 8,
     "metadata": {},
     "output_type": "execute_result"
    }
   ],
   "source": [
    "np.var(incomes)"
   ]
  },
  {
   "cell_type": "markdown",
   "metadata": {},
   "source": [
    "Practice: generate the mean, median, sd, variance of incomes2"
   ]
  },
  {
   "cell_type": "code",
   "execution_count": 9,
   "metadata": {},
   "outputs": [
    {
     "name": "stdout",
     "output_type": "stream",
     "text": [
      "[100000, 200000, 50000, 50000, 60000, 1000000000]\n"
     ]
    }
   ],
   "source": [
    "incomes2=incomes+[1000000000]\n",
    "print(incomes2)"
   ]
  },
  {
   "cell_type": "code",
   "execution_count": 11,
   "metadata": {},
   "outputs": [
    {
     "data": {
      "text/plain": [
       "np.float64(80000.0)"
      ]
     },
     "execution_count": 11,
     "metadata": {},
     "output_type": "execute_result"
    }
   ],
   "source": [
    "np.median(incomes2)"
   ]
  },
  {
   "cell_type": "code",
   "execution_count": 12,
   "metadata": {},
   "outputs": [
    {
     "data": {
      "text/plain": [
       "np.float64(372643713.5149635)"
      ]
     },
     "execution_count": 12,
     "metadata": {},
     "output_type": "execute_result"
    }
   ],
   "source": [
    "np.std(incomes2)"
   ]
  },
  {
   "cell_type": "code",
   "execution_count": 13,
   "metadata": {},
   "outputs": [
    {
     "data": {
      "text/plain": [
       "np.float64(3256000000.0)"
      ]
     },
     "execution_count": 13,
     "metadata": {},
     "output_type": "execute_result"
    }
   ],
   "source": [
    "np.var(incomes)"
   ]
  },
  {
   "cell_type": "markdown",
   "metadata": {},
   "source": [
    "**Histogram and Scatter Plot**"
   ]
  },
  {
   "cell_type": "code",
   "execution_count": 14,
   "metadata": {},
   "outputs": [
    {
     "name": "stdout",
     "output_type": "stream",
     "text": [
      "[ 8.42789495  9.05482623 13.90943403  7.40933953  6.87139669  3.39946966\n",
      "  9.08917236  8.94832886  9.02996642  8.53093581  7.90178194 11.52429696\n",
      " 12.14300106 10.35888045  8.16995596  6.77521444 15.19353042  9.55420432\n",
      " 12.75423007  9.5998369   8.2899506   8.77249946  7.81872643  9.64013853\n",
      " 11.23564342 12.17581667 10.3674014  11.54309561 10.54596045 11.29621698\n",
      "  9.80190352 13.13517294  7.5947283  12.0918244  13.1010814  10.55885463\n",
      "  8.33302086  9.56999268 11.44125395 10.35140869  9.28392552  9.13477749\n",
      "  9.07893504  9.23612133  6.38288058  7.93178597 11.93715791 10.1092656\n",
      " 12.62215192 10.71997246]\n",
      "[5.72079651 3.5657088  3.80090295 5.22882616 5.38643025 4.52624036\n",
      " 5.50626166 7.38670657 4.66580884 5.15390539 5.77831915 5.56676795\n",
      " 5.1331837  6.28911804 4.68348874 5.81832856 2.85382825 5.71420951\n",
      " 5.42747592 7.24476608 3.88731696 5.47713014 5.33782084 6.54313027\n",
      " 4.3287621  3.82192571 6.7076934  5.40253112 5.76860428 3.01955047\n",
      " 5.94356173 5.83659422 6.23969866 5.06154447 4.42425523 4.57099791\n",
      " 6.30462605 6.05761259 5.25626679 4.71489179 4.10745399 5.03922407\n",
      " 6.32682398 4.82352952 6.15560555 3.66695216 5.16821303 6.88370143\n",
      " 5.07181982 5.01904511]\n"
     ]
    },
    {
     "data": {
      "image/png": "[encoded data removed]",
      "text/plain": [
       "<Figure size 640x480 with 1 Axes>"
      ]
     },
     "metadata": {},
     "output_type": "display_data"
    },
    {
     "data": {
      "image/png": "[encoded data removed]",
      "text/plain": [
       "<Figure size 640x480 with 1 Axes>"
      ]
     },
     "metadata": {},
     "output_type": "display_data"
    }
   ],
   "source": [
    "x=np.random.normal(10,2,50) # generate 50 random numbers, mean=10, sd=2\n",
    "y=np.random.normal(5,1,50) # generate 50 random numbers, mean=5, sd=1\n",
    "print(x)\n",
    "print(y)\n",
    "plt.hist(x) #generate a histogram of x\n",
    "plt.show()  #show the plot \n",
    "plt.hist(y) #generate a histogram of y\n",
    "plt.show()"
   ]
  },
  {
   "cell_type": "code",
   "execution_count": 15,
   "metadata": {},
   "outputs": [
    {
     "data": {
      "image/png": "[encoded data removed]",
      "text/plain": [
       "<Figure size 640x480 with 1 Axes>"
      ]
     },
     "metadata": {},
     "output_type": "display_data"
    }
   ],
   "source": [
    "plt.scatter(x,y) #generate a scatter plot of x and y\n",
    "plt.show()"
   ]
  },
  {
   "cell_type": "markdown",
   "metadata": {},
   "source": [
    "***Figure Formatting***"
   ]
  },
  {
   "cell_type": "code",
   "execution_count": 5,
   "metadata": {},
   "outputs": [
    {
     "data": {
      "image/png": "[encoded data removed]",
      "text/plain": [
       "<Figure size 640x480 with 1 Axes>"
      ]
     },
     "metadata": {},
     "output_type": "display_data"
    }
   ],
   "source": [
    "salary=np.random.normal(50000,10000,1000) # 1000 random salaries mean=50k sd=10k \n",
    "\n",
    "plt.hist(salary, 100) #histogram with 100 bins\n",
    "\n",
    "# Customizing axis range\n",
    "plt.xlim(0, 100000)  # Set X-axis range \n",
    "plt.ylim(0, 50)  # Set Y-axis range \n",
    "\n",
    "# Customizing axis ticks\n",
    "plt.xticks(np.arange(0, 100000, 10000))  # Every 10000 units on X-axis\n",
    "plt.yticks(np.arange(0, 51, 5))  # Every 5 units on Y-axis\n",
    "\n",
    "# Customizing titles \n",
    "plt.xlabel(\"Income\")\n",
    "plt.ylabel(\"Frequency\")\n",
    "plt.title(\"Income Distribution\")\n",
    "plt.show()"
   ]
  },
  {
   "cell_type": "markdown",
   "metadata": {},
   "source": [
    "In-Class Exercise:\n",
    "\n",
    "Generate two variables with random numbers following normal distributions    \n",
    "(e.g., coffee consumption vs. grades).  \n",
    "\n",
    "Plot a scatter plot.  \n",
    "Customize the axis ranges, axis ticks, axis labels, and figure title.   \n",
    "\n",
    "Submission:\n",
    "Right click on the figure and \"copy cell output\", paste it into a word doc.   \n",
    "Submit the figure in a word or pdf file. "
   ]
  },
  {
   "cell_type": "code",
   "execution_count": 12,
   "metadata": {},
   "outputs": [
    {
     "data": {
      "image/png": "[encoded data removed]",
      "text/plain": [
       "<Figure size 640x480 with 1 Axes>"
      ]
     },
     "metadata": {},
     "output_type": "display_data"
    }
   ],
   "source": [
    "newTech=np.random.normal(20,5,100) # generate 100 random numbers, mean=20, sd=5\n",
    "userProblems=np.random.normal(10,5,100) # generate 50 random numbers, mean=10, sd=5\n",
    "# Customizing axis range\n",
    "plt.xlim(-10, 50)  # Set X-axis range \n",
    "plt.ylim(-10, 50)  # Set Y-axis range \n",
    "plt.scatter(newTech,userProblems) #generate a scatter plot of x and y\n",
    "# Customizing titles \n",
    "plt.xlabel(\"New Technologies\")\n",
    "plt.ylabel(\"Enduser Issues\")\n",
    "plt.title(\"Correlation between New Technologies and Enduser Issues\")\n",
    "plt.show()  #show the plot \n"
   ]
  }
 ],
 "metadata": {
  "kernelspec": {
   "display_name": "datamining",
   "language": "python",
   "name": "python3"
  },
  "language_info": {
   "codemirror_mode": {
    "name": "ipython",
    "version": 3
   },
   "file_extension": ".py",
   "mimetype": "text/x-python",
   "name": "python",
   "nbconvert_exporter": "python",
   "pygments_lexer": "ipython3",
   "version": "3.11.9"
  }
 },
 "nbformat": 4,
 "nbformat_minor": 2
}
