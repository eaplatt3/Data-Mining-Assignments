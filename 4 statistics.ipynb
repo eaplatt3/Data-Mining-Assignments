{
 "cells": [
  {
   "cell_type": "code",
   "execution_count": null,
   "metadata": {},
   "outputs": [],
   "source": [
    "# %pip install numpy   \n",
    "# %pip install matplotlib\n",
    "\n",
    "# you only need to run the above lines once to install packages in your environment\n",
    "# you will not need to run this again in the future in the same enviroment "
   ]
  },
  {
   "cell_type": "code",
   "execution_count": null,
   "metadata": {},
   "outputs": [],
   "source": [
    "# you need to import packages when you reopen the script\n",
    "import numpy as np   \n",
    "import matplotlib.pyplot as plt "
   ]
  },
  {
   "cell_type": "markdown",
   "metadata": {},
   "source": [
    "**Mean Median SD Variance**"
   ]
  },
  {
   "cell_type": "code",
   "execution_count": null,
   "metadata": {},
   "outputs": [],
   "source": [
    "incomes = [100000, 200000, 50000, 50000, 60000]\n",
    "np.mean(incomes)"
   ]
  },
  {
   "cell_type": "code",
   "execution_count": null,
   "metadata": {},
   "outputs": [],
   "source": [
    "print(np.mean(incomes))"
   ]
  },
  {
   "cell_type": "code",
   "execution_count": null,
   "metadata": {},
   "outputs": [],
   "source": [
    "np.median(incomes)"
   ]
  },
  {
   "cell_type": "code",
   "execution_count": null,
   "metadata": {},
   "outputs": [],
   "source": [
    "np.std(incomes)"
   ]
  },
  {
   "cell_type": "code",
   "execution_count": null,
   "metadata": {},
   "outputs": [],
   "source": [
    "np.var(incomes)"
   ]
  },
  {
   "cell_type": "markdown",
   "metadata": {},
   "source": [
    "Practice: generate the mean, median, sd, variance of incomes2"
   ]
  },
  {
   "cell_type": "code",
   "execution_count": null,
   "metadata": {},
   "outputs": [],
   "source": [
    "incomes2=incomes+[1000000000]\n",
    "print(incomes2)"
   ]
  },
  {
   "cell_type": "markdown",
   "metadata": {},
   "source": [
    "**Histogram and Scatter Plot**"
   ]
  },
  {
   "cell_type": "code",
   "execution_count": null,
   "metadata": {},
   "outputs": [],
   "source": [
    "x=np.random.normal(10,2,50) # generate 50 random numbers, mean=10, sd=2\n",
    "y=np.random.normal(5,1,50) # generate 50 random numbers, mean=5, sd=1\n",
    "print(x)\n",
    "print(y)\n",
    "plt.hist(x) #generate a histogram of x\n",
    "plt.show()  #show the plot \n",
    "plt.hist(y) #generate a histogram of y\n",
    "plt.show()"
   ]
  },
  {
   "cell_type": "code",
   "execution_count": null,
   "metadata": {},
   "outputs": [],
   "source": [
    "plt.scatter(x,y) #generate a scatter plot of x and y\n",
    "plt.show()"
   ]
  },
  {
   "cell_type": "markdown",
   "metadata": {},
   "source": [
    "***Figure Formatting***"
   ]
  },
  {
   "cell_type": "code",
   "execution_count": null,
   "metadata": {},
   "outputs": [],
   "source": [
    "salary=np.random.normal(50000,10000,1000) # 1000 random salaries mean=50k sd=10k \n",
    "\n",
    "plt.hist(salary, 100) #histogram with 100 bins\n",
    "\n",
    "# Customizing axis range\n",
    "plt.xlim(0, 100000)  # Set X-axis range \n",
    "plt.ylim(0, 50)  # Set Y-axis range \n",
    "\n",
    "# Customizing axis ticks\n",
    "plt.xticks(np.arange(0, 100000, 10000))  # Every 10000 units on X-axis\n",
    "plt.yticks(np.arange(0, 51, 5))  # Every 5 units on Y-axis\n",
    "\n",
    "# Customizing titles \n",
    "plt.xlabel(\"Income\")\n",
    "plt.ylabel(\"Frequency\")\n",
    "plt.title(\"Income Distribution\")\n",
    "plt.show()"
   ]
  },
  {
   "cell_type": "markdown",
   "metadata": {},
   "source": [
    "In-Class Exercise:\n",
    "\n",
    "Generate two variables with random numbers following normal distributions    \n",
    "(e.g., coffee consumption vs. grades).  \n",
    "\n",
    "Plot a scatter plot.  \n",
    "Customize the axis ranges, axis ticks, axis labels, and figure title.   \n",
    "\n",
    "Submission:\n",
    "Right click on the figure and \"copy cell output\", paste it into a word doc.   \n",
    "Submit the figure in a word or pdf file. "
   ]
  }
 ],
 "metadata": {
  "kernelspec": {
   "display_name": "datamining",
   "language": "python",
   "name": "python3"
  },
  "language_info": {
   "codemirror_mode": {
    "name": "ipython",
    "version": 3
   },
   "file_extension": ".py",
   "mimetype": "text/x-python",
   "name": "python",
   "nbconvert_exporter": "python",
   "pygments_lexer": "ipython3",
   "version": "3.9.7"
  }
 },
 "nbformat": 4,
 "nbformat_minor": 2
}
